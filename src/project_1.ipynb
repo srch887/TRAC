{
 "cells": [
  {
   "cell_type": "code",
   "execution_count": 1,
   "metadata": {},
   "outputs": [],
   "source": [
    "import numpy as np"
   ]
  },
  {
   "cell_type": "code",
   "execution_count": 2,
   "metadata": {},
   "outputs": [],
   "source": [
    "from matplotlib import pyplot as plt"
   ]
  },
  {
   "cell_type": "code",
   "execution_count": 3,
   "metadata": {},
   "outputs": [],
   "source": [
    "data = np.loadtxt(fname=\"./vela_Pulsar.mbr\")"
   ]
  },
  {
   "cell_type": "code",
   "execution_count": 63,
   "metadata": {},
   "outputs": [
    {
     "data": {
      "image/png": "[encoded data removed]",
      "text/plain": [
       "<Figure size 432x288 with 1 Axes>"
      ]
     },
     "metadata": {
      "needs_background": "light"
     },
     "output_type": "display_data"
    }
   ],
   "source": [
    "plt.hist(data[:,0],color='b',bins=int(256))   #Histogram for distribution of voltage values\n",
    "plt.title('Frequency Distribution')\n",
    "plt.xlabel('Voltage')\n",
    "plt.ylabel('Frequency')\n",
    "plt.savefig('fig1.png')"
   ]
  },
  {
   "cell_type": "code",
   "execution_count": 4,
   "metadata": {},
   "outputs": [],
   "source": [
    "from scipy.fftpack import fft"
   ]
  },
  {
   "cell_type": "code",
   "execution_count": 5,
   "metadata": {},
   "outputs": [],
   "source": [
    "volt_mat=np.empty([512,60000])"
   ]
  },
  {
   "cell_type": "code",
   "execution_count": 6,
   "metadata": {},
   "outputs": [],
   "source": [
    "n=0"
   ]
  },
  {
   "cell_type": "code",
   "execution_count": 7,
   "metadata": {},
   "outputs": [],
   "source": [
    "while n<512:\n",
    "    volt_mat[n,:]=data[60000*n:60000*(n+1),0]\n",
    "    n=n+1"
   ]
  },
  {
   "cell_type": "code",
   "execution_count": 8,
   "metadata": {},
   "outputs": [],
   "source": [
    "m=0"
   ]
  },
  {
   "cell_type": "code",
   "execution_count": 73,
   "metadata": {},
   "outputs": [],
   "source": [
    "while m<60000:\n",
    "    volt_fft=fft(volt_mat[:,m])\n",
    "    m=m+1"
   ]
  },
  {
   "cell_type": "code",
   "execution_count": 74,
   "metadata": {},
   "outputs": [],
   "source": [
    "volt_psd=(np.absolute(volt_fft))**2                      # P.S.D.=|FFT|^2"
   ]
  },
  {
   "cell_type": "code",
   "execution_count": 75,
   "metadata": {
    "scrolled": true
   },
   "outputs": [
    {
     "data": {
      "image/png": "[encoded data removed]",
      "text/plain": [
       "<Figure size 432x288 with 1 Axes>"
      ]
     },
     "metadata": {
      "needs_background": "light"
     },
     "output_type": "display_data"
    }
   ],
   "source": [
    "plt.hist(volt_psd,512,color='blue')  #Histogram for distribution of |FFT|^2\n",
    "plt.savefig('fig2.png')"
   ]
  },
  {
   "cell_type": "code",
   "execution_count": 76,
   "metadata": {},
   "outputs": [],
   "source": [
    "volt_psd_up=volt_psd[0:256]\n",
    "volt_psd_down=volt_psd[256:]"
   ]
  },
  {
   "cell_type": "code",
   "execution_count": 77,
   "metadata": {
    "scrolled": true
   },
   "outputs": [
    {
     "data": {
      "text/plain": [
       "(array([ 6.,  8., 12.,  4., 16., 12.,  7.,  8., 12.,  3., 13.,  7.,  2.,\n",
       "         6.,  4.,  4.,  3., 10.,  4.,  1.,  5.,  1.,  1.,  2.,  2.,  4.,\n",
       "         2.,  3.,  2.,  3.,  6.,  3.,  8.,  2.,  2.,  4.,  1.,  3.,  0.,\n",
       "         1.,  4.,  4.,  0.,  2.,  2.,  2.,  3.,  1.,  1.,  2.,  2.,  1.,\n",
       "         1.,  2.,  2.,  3.,  3.,  3.,  0.,  0.,  0.,  0.,  0.,  0.,  0.,\n",
       "         1.,  1.,  0.,  1.,  0.,  0.,  1.,  1.,  0.,  0.,  0.,  0.,  0.,\n",
       "         0.,  0.,  0.,  3.,  1.,  1.,  0.,  0.,  0.,  0.,  0.,  0.,  0.,\n",
       "         0.,  0.,  1.,  0.,  0.,  1.,  1.,  0.,  0.,  0.,  1.,  1.,  0.,\n",
       "         0.,  0.,  0.,  0.,  0.,  0.,  0.,  2.,  0.,  0.,  0.,  0.,  0.,\n",
       "         0.,  0.,  0.,  0.,  1.,  0.,  0.,  0.,  0.,  0.,  0.,  0.,  0.,\n",
       "         0.,  0.,  0.,  0.,  0.,  0.,  0.,  0.,  0.,  0.,  0.,  0.,  0.,\n",
       "         0.,  0.,  0.,  0.,  0.,  0.,  0.,  0.,  0.,  0.,  0.,  0.,  0.,\n",
       "         0.,  0.,  0.,  0.,  0.,  0.,  0.,  0.,  0.,  0.,  0.,  1.,  0.,\n",
       "         0.,  0.,  0.,  0.,  0.,  0.,  0.,  0.,  0.,  0.,  0.,  0.,  0.,\n",
       "         0.,  0.,  0.,  0.,  0.,  0.,  0.,  0.,  0.,  0.,  0.,  0.,  0.,\n",
       "         0.,  0.,  0.,  0.,  0.,  0.,  0.,  0.,  0.,  0.,  0.,  1.,  0.,\n",
       "         0.,  0.,  0.,  0.,  0.,  0.,  0.,  0.,  0.,  0.,  0.,  0.,  0.,\n",
       "         0.,  0.,  0.,  0.,  0.,  0.,  0.,  0.,  0.,  0.,  0.,  0.,  0.,\n",
       "         0.,  0.,  0.,  0.,  0.,  0.,  0.,  0.,  0.,  0.,  0.,  0.,  0.,\n",
       "         0.,  0.,  0.,  0.,  0.,  0.,  0.,  0.,  1.]),\n",
       " array([2.51224577e+03, 1.71434323e+04, 3.17746189e+04, 4.64058054e+04,\n",
       "        6.10369919e+04, 7.56681785e+04, 9.02993650e+04, 1.04930552e+05,\n",
       "        1.19561738e+05, 1.34192925e+05, 1.48824111e+05, 1.63455298e+05,\n",
       "        1.78086484e+05, 1.92717671e+05, 2.07348857e+05, 2.21980044e+05,\n",
       "        2.36611230e+05, 2.51242417e+05, 2.65873603e+05, 2.80504790e+05,\n",
       "        2.95135977e+05, 3.09767163e+05, 3.24398350e+05, 3.39029536e+05,\n",
       "        3.53660723e+05, 3.68291909e+05, 3.82923096e+05, 3.97554282e+05,\n",
       "        4.12185469e+05, 4.26816655e+05, 4.41447842e+05, 4.56079029e+05,\n",
       "        4.70710215e+05, 4.85341402e+05, 4.99972588e+05, 5.14603775e+05,\n",
       "        5.29234961e+05, 5.43866148e+05, 5.58497334e+05, 5.73128521e+05,\n",
       "        5.87759707e+05, 6.02390894e+05, 6.17022080e+05, 6.31653267e+05,\n",
       "        6.46284454e+05, 6.60915640e+05, 6.75546827e+05, 6.90178013e+05,\n",
       "        7.04809200e+05, 7.19440386e+05, 7.34071573e+05, 7.48702759e+05,\n",
       "        7.63333946e+05, 7.77965132e+05, 7.92596319e+05, 8.07227505e+05,\n",
       "        8.21858692e+05, 8.36489879e+05, 8.51121065e+05, 8.65752252e+05,\n",
       "        8.80383438e+05, 8.95014625e+05, 9.09645811e+05, 9.24276998e+05,\n",
       "        9.38908184e+05, 9.53539371e+05, 9.68170557e+05, 9.82801744e+05,\n",
       "        9.97432930e+05, 1.01206412e+06, 1.02669530e+06, 1.04132649e+06,\n",
       "        1.05595768e+06, 1.07058886e+06, 1.08522005e+06, 1.09985124e+06,\n",
       "        1.11448242e+06, 1.12911361e+06, 1.14374480e+06, 1.15837598e+06,\n",
       "        1.17300717e+06, 1.18763836e+06, 1.20226954e+06, 1.21690073e+06,\n",
       "        1.23153192e+06, 1.24616310e+06, 1.26079429e+06, 1.27542547e+06,\n",
       "        1.29005666e+06, 1.30468785e+06, 1.31931903e+06, 1.33395022e+06,\n",
       "        1.34858141e+06, 1.36321259e+06, 1.37784378e+06, 1.39247497e+06,\n",
       "        1.40710615e+06, 1.42173734e+06, 1.43636853e+06, 1.45099971e+06,\n",
       "        1.46563090e+06, 1.48026209e+06, 1.49489327e+06, 1.50952446e+06,\n",
       "        1.52415565e+06, 1.53878683e+06, 1.55341802e+06, 1.56804921e+06,\n",
       "        1.58268039e+06, 1.59731158e+06, 1.61194277e+06, 1.62657395e+06,\n",
       "        1.64120514e+06, 1.65583632e+06, 1.67046751e+06, 1.68509870e+06,\n",
       "        1.69972988e+06, 1.71436107e+06, 1.72899226e+06, 1.74362344e+06,\n",
       "        1.75825463e+06, 1.77288582e+06, 1.78751700e+06, 1.80214819e+06,\n",
       "        1.81677938e+06, 1.83141056e+06, 1.84604175e+06, 1.86067294e+06,\n",
       "        1.87530412e+06, 1.88993531e+06, 1.90456650e+06, 1.91919768e+06,\n",
       "        1.93382887e+06, 1.94846006e+06, 1.96309124e+06, 1.97772243e+06,\n",
       "        1.99235362e+06, 2.00698480e+06, 2.02161599e+06, 2.03624717e+06,\n",
       "        2.05087836e+06, 2.06550955e+06, 2.08014073e+06, 2.09477192e+06,\n",
       "        2.10940311e+06, 2.12403429e+06, 2.13866548e+06, 2.15329667e+06,\n",
       "        2.16792785e+06, 2.18255904e+06, 2.19719023e+06, 2.21182141e+06,\n",
       "        2.22645260e+06, 2.24108379e+06, 2.25571497e+06, 2.27034616e+06,\n",
       "        2.28497735e+06, 2.29960853e+06, 2.31423972e+06, 2.32887091e+06,\n",
       "        2.34350209e+06, 2.35813328e+06, 2.37276447e+06, 2.38739565e+06,\n",
       "        2.40202684e+06, 2.41665802e+06, 2.43128921e+06, 2.44592040e+06,\n",
       "        2.46055158e+06, 2.47518277e+06, 2.48981396e+06, 2.50444514e+06,\n",
       "        2.51907633e+06, 2.53370752e+06, 2.54833870e+06, 2.56296989e+06,\n",
       "        2.57760108e+06, 2.59223226e+06, 2.60686345e+06, 2.62149464e+06,\n",
       "        2.63612582e+06, 2.65075701e+06, 2.66538820e+06, 2.68001938e+06,\n",
       "        2.69465057e+06, 2.70928176e+06, 2.72391294e+06, 2.73854413e+06,\n",
       "        2.75317532e+06, 2.76780650e+06, 2.78243769e+06, 2.79706887e+06,\n",
       "        2.81170006e+06, 2.82633125e+06, 2.84096243e+06, 2.85559362e+06,\n",
       "        2.87022481e+06, 2.88485599e+06, 2.89948718e+06, 2.91411837e+06,\n",
       "        2.92874955e+06, 2.94338074e+06, 2.95801193e+06, 2.97264311e+06,\n",
       "        2.98727430e+06, 3.00190549e+06, 3.01653667e+06, 3.03116786e+06,\n",
       "        3.04579905e+06, 3.06043023e+06, 3.07506142e+06, 3.08969261e+06,\n",
       "        3.10432379e+06, 3.11895498e+06, 3.13358617e+06, 3.14821735e+06,\n",
       "        3.16284854e+06, 3.17747972e+06, 3.19211091e+06, 3.20674210e+06,\n",
       "        3.22137328e+06, 3.23600447e+06, 3.25063566e+06, 3.26526684e+06,\n",
       "        3.27989803e+06, 3.29452922e+06, 3.30916040e+06, 3.32379159e+06,\n",
       "        3.33842278e+06, 3.35305396e+06, 3.36768515e+06, 3.38231634e+06,\n",
       "        3.39694752e+06, 3.41157871e+06, 3.42620990e+06, 3.44084108e+06,\n",
       "        3.45547227e+06, 3.47010346e+06, 3.48473464e+06, 3.49936583e+06,\n",
       "        3.51399702e+06, 3.52862820e+06, 3.54325939e+06, 3.55789057e+06,\n",
       "        3.57252176e+06, 3.58715295e+06, 3.60178413e+06, 3.61641532e+06,\n",
       "        3.63104651e+06, 3.64567769e+06, 3.66030888e+06, 3.67494007e+06,\n",
       "        3.68957125e+06, 3.70420244e+06, 3.71883363e+06, 3.73346481e+06,\n",
       "        3.74809600e+06]),\n",
       " <a list of 256 Patch objects>)"
      ]
     },
     "execution_count": 77,
     "metadata": {},
     "output_type": "execute_result"
    },
    {
     "data": {
      "image/png": "[encoded data removed]",
      "text/plain": [
       "<Figure size 432x288 with 1 Axes>"
      ]
     },
     "metadata": {
      "needs_background": "light"
     },
     "output_type": "display_data"
    }
   ],
   "source": [
    "plt.hist(volt_psd_up,256,color='blue')  #Histogram for distribution of |FFT|^2"
   ]
  },
  {
   "cell_type": "code",
   "execution_count": 78,
   "metadata": {},
   "outputs": [
    {
     "data": {
      "text/plain": [
       "(array([ 4.,  6., 11.,  7.,  4., 13., 11.,  9.,  3.,  8., 10.,  3.,  7.,\n",
       "         6.,  8.,  1.,  3.,  6.,  2.,  3.,  2.,  6.,  7.,  2.,  1.,  5.,\n",
       "         1.,  1.,  1.,  2.,  2.,  3.,  0.,  4.,  1.,  2.,  3.,  6.,  1.,\n",
       "         3.,  7.,  2.,  1.,  1.,  4.,  1.,  3.,  0.,  0.,  4.,  2.,  3.,\n",
       "         0.,  1.,  1.,  2.,  2.,  2.,  2.,  0.,  1.,  2.,  2.,  1.,  1.,\n",
       "         0.,  2.,  2.,  2.,  2.,  3.,  2.,  0.,  0.,  0.,  0.,  0.,  0.,\n",
       "         0.,  0.,  1.,  0.,  1.,  0.,  1.,  0.,  0.,  0.,  1.,  1.,  0.,\n",
       "         0.,  0.,  0.,  0.,  0.,  0.,  0.,  0.,  0.,  2.,  1.,  1.,  1.,\n",
       "         0.,  0.,  0.,  0.,  0.,  0.,  0.,  0.,  0.,  0.,  0.,  0.,  1.,\n",
       "         0.,  0.,  1.,  1.,  0.,  0.,  0.,  0.,  1.,  1.,  0.,  0.,  0.,\n",
       "         0.,  0.,  0.,  0.,  0.,  0.,  0.,  1.,  1.,  0.,  0.,  0.,  0.,\n",
       "         0.,  0.,  0.,  0.,  0.,  0.,  0.,  1.,  0.,  0.,  0.,  0.,  0.,\n",
       "         0.,  0.,  0.,  0.,  0.,  0.,  0.,  0.,  0.,  0.,  0.,  0.,  0.,\n",
       "         0.,  0.,  0.,  0.,  0.,  0.,  0.,  0.,  0.,  0.,  0.,  0.,  0.,\n",
       "         0.,  0.,  0.,  0.,  0.,  0.,  0.,  0.,  0.,  0.,  0.,  0.,  0.,\n",
       "         0.,  0.,  0.,  0.,  0.,  0.,  0.,  0.,  0.,  0.,  0.,  0.,  1.,\n",
       "         0.,  0.,  0.,  0.,  0.,  0.,  0.,  0.,  0.,  0.,  0.,  0.,  0.,\n",
       "         0.,  0.,  0.,  0.,  0.,  0.,  0.,  0.,  0.,  0.,  0.,  0.,  0.,\n",
       "         0.,  0.,  0.,  0.,  0.,  0.,  0.,  0.,  0.,  0.,  0.,  0.,  0.,\n",
       "         0.,  0.,  0.,  0.,  0.,  0.,  0.,  0.,  1.]),\n",
       " array([2.51224577e+03, 1.43303270e+04, 2.61484082e+04, 3.79664894e+04,\n",
       "        4.97845706e+04, 6.16026518e+04, 7.34207330e+04, 8.52388142e+04,\n",
       "        9.70568954e+04, 1.08874977e+05, 1.20693058e+05, 1.32511139e+05,\n",
       "        1.44329220e+05, 1.56147301e+05, 1.67965383e+05, 1.79783464e+05,\n",
       "        1.91601545e+05, 2.03419626e+05, 2.15237707e+05, 2.27055789e+05,\n",
       "        2.38873870e+05, 2.50691951e+05, 2.62510032e+05, 2.74328113e+05,\n",
       "        2.86146195e+05, 2.97964276e+05, 3.09782357e+05, 3.21600438e+05,\n",
       "        3.33418519e+05, 3.45236601e+05, 3.57054682e+05, 3.68872763e+05,\n",
       "        3.80690844e+05, 3.92508925e+05, 4.04327007e+05, 4.16145088e+05,\n",
       "        4.27963169e+05, 4.39781250e+05, 4.51599331e+05, 4.63417413e+05,\n",
       "        4.75235494e+05, 4.87053575e+05, 4.98871656e+05, 5.10689737e+05,\n",
       "        5.22507819e+05, 5.34325900e+05, 5.46143981e+05, 5.57962062e+05,\n",
       "        5.69780143e+05, 5.81598225e+05, 5.93416306e+05, 6.05234387e+05,\n",
       "        6.17052468e+05, 6.28870549e+05, 6.40688631e+05, 6.52506712e+05,\n",
       "        6.64324793e+05, 6.76142874e+05, 6.87960955e+05, 6.99779037e+05,\n",
       "        7.11597118e+05, 7.23415199e+05, 7.35233280e+05, 7.47051361e+05,\n",
       "        7.58869443e+05, 7.70687524e+05, 7.82505605e+05, 7.94323686e+05,\n",
       "        8.06141767e+05, 8.17959849e+05, 8.29777930e+05, 8.41596011e+05,\n",
       "        8.53414092e+05, 8.65232173e+05, 8.77050255e+05, 8.88868336e+05,\n",
       "        9.00686417e+05, 9.12504498e+05, 9.24322579e+05, 9.36140661e+05,\n",
       "        9.47958742e+05, 9.59776823e+05, 9.71594904e+05, 9.83412985e+05,\n",
       "        9.95231067e+05, 1.00704915e+06, 1.01886723e+06, 1.03068531e+06,\n",
       "        1.04250339e+06, 1.05432147e+06, 1.06613955e+06, 1.07795764e+06,\n",
       "        1.08977572e+06, 1.10159380e+06, 1.11341188e+06, 1.12522996e+06,\n",
       "        1.13704804e+06, 1.14886612e+06, 1.16068420e+06, 1.17250228e+06,\n",
       "        1.18432037e+06, 1.19613845e+06, 1.20795653e+06, 1.21977461e+06,\n",
       "        1.23159269e+06, 1.24341077e+06, 1.25522885e+06, 1.26704693e+06,\n",
       "        1.27886502e+06, 1.29068310e+06, 1.30250118e+06, 1.31431926e+06,\n",
       "        1.32613734e+06, 1.33795542e+06, 1.34977350e+06, 1.36159158e+06,\n",
       "        1.37340967e+06, 1.38522775e+06, 1.39704583e+06, 1.40886391e+06,\n",
       "        1.42068199e+06, 1.43250007e+06, 1.44431815e+06, 1.45613623e+06,\n",
       "        1.46795431e+06, 1.47977240e+06, 1.49159048e+06, 1.50340856e+06,\n",
       "        1.51522664e+06, 1.52704472e+06, 1.53886280e+06, 1.55068088e+06,\n",
       "        1.56249896e+06, 1.57431705e+06, 1.58613513e+06, 1.59795321e+06,\n",
       "        1.60977129e+06, 1.62158937e+06, 1.63340745e+06, 1.64522553e+06,\n",
       "        1.65704361e+06, 1.66886170e+06, 1.68067978e+06, 1.69249786e+06,\n",
       "        1.70431594e+06, 1.71613402e+06, 1.72795210e+06, 1.73977018e+06,\n",
       "        1.75158826e+06, 1.76340634e+06, 1.77522443e+06, 1.78704251e+06,\n",
       "        1.79886059e+06, 1.81067867e+06, 1.82249675e+06, 1.83431483e+06,\n",
       "        1.84613291e+06, 1.85795099e+06, 1.86976908e+06, 1.88158716e+06,\n",
       "        1.89340524e+06, 1.90522332e+06, 1.91704140e+06, 1.92885948e+06,\n",
       "        1.94067756e+06, 1.95249564e+06, 1.96431373e+06, 1.97613181e+06,\n",
       "        1.98794989e+06, 1.99976797e+06, 2.01158605e+06, 2.02340413e+06,\n",
       "        2.03522221e+06, 2.04704029e+06, 2.05885837e+06, 2.07067646e+06,\n",
       "        2.08249454e+06, 2.09431262e+06, 2.10613070e+06, 2.11794878e+06,\n",
       "        2.12976686e+06, 2.14158494e+06, 2.15340302e+06, 2.16522111e+06,\n",
       "        2.17703919e+06, 2.18885727e+06, 2.20067535e+06, 2.21249343e+06,\n",
       "        2.22431151e+06, 2.23612959e+06, 2.24794767e+06, 2.25976576e+06,\n",
       "        2.27158384e+06, 2.28340192e+06, 2.29522000e+06, 2.30703808e+06,\n",
       "        2.31885616e+06, 2.33067424e+06, 2.34249232e+06, 2.35431040e+06,\n",
       "        2.36612849e+06, 2.37794657e+06, 2.38976465e+06, 2.40158273e+06,\n",
       "        2.41340081e+06, 2.42521889e+06, 2.43703697e+06, 2.44885505e+06,\n",
       "        2.46067314e+06, 2.47249122e+06, 2.48430930e+06, 2.49612738e+06,\n",
       "        2.50794546e+06, 2.51976354e+06, 2.53158162e+06, 2.54339970e+06,\n",
       "        2.55521779e+06, 2.56703587e+06, 2.57885395e+06, 2.59067203e+06,\n",
       "        2.60249011e+06, 2.61430819e+06, 2.62612627e+06, 2.63794435e+06,\n",
       "        2.64976243e+06, 2.66158052e+06, 2.67339860e+06, 2.68521668e+06,\n",
       "        2.69703476e+06, 2.70885284e+06, 2.72067092e+06, 2.73248900e+06,\n",
       "        2.74430708e+06, 2.75612517e+06, 2.76794325e+06, 2.77976133e+06,\n",
       "        2.79157941e+06, 2.80339749e+06, 2.81521557e+06, 2.82703365e+06,\n",
       "        2.83885173e+06, 2.85066982e+06, 2.86248790e+06, 2.87430598e+06,\n",
       "        2.88612406e+06, 2.89794214e+06, 2.90976022e+06, 2.92157830e+06,\n",
       "        2.93339638e+06, 2.94521446e+06, 2.95703255e+06, 2.96885063e+06,\n",
       "        2.98066871e+06, 2.99248679e+06, 3.00430487e+06, 3.01612295e+06,\n",
       "        3.02794103e+06]),\n",
       " <a list of 256 Patch objects>)"
      ]
     },
     "execution_count": 78,
     "metadata": {},
     "output_type": "execute_result"
    },
    {
     "data": {
      "image/png": "[encoded data removed]",
      "text/plain": [
       "<Figure size 432x288 with 1 Axes>"
      ]
     },
     "metadata": {
      "needs_background": "light"
     },
     "output_type": "display_data"
    }
   ],
   "source": [
    "plt.hist(volt_psd_down,256,color='blue')"
   ]
  },
  {
   "cell_type": "code",
   "execution_count": 85,
   "metadata": {},
   "outputs": [
    {
     "name": "stderr",
     "output_type": "stream",
     "text": [
      "C:\\Users\\user.IPCLAB5-14\\Anaconda3\\lib\\site-packages\\ipykernel_launcher.py:1: UserWarning: Only one segment is calculated since parameter NFFT (=256) >= signal length (=256).\n",
      "  \"\"\"Entry point for launching an IPython kernel.\n"
     ]
    },
    {
     "data": {
      "text/plain": [
       "(array([[9.37493966e+05],\n",
       "        [6.13965469e+05],\n",
       "        [9.30989287e+03],\n",
       "        [1.28202077e+03],\n",
       "        [2.83766269e+02],\n",
       "        [2.40543451e+03],\n",
       "        [2.06666327e+03],\n",
       "        [1.51367218e+04],\n",
       "        [1.73715053e+04],\n",
       "        [6.19521471e+03],\n",
       "        [1.15035598e+04],\n",
       "        [8.17905845e+03],\n",
       "        [3.61085566e+03],\n",
       "        [4.21258623e+03],\n",
       "        [8.61786415e+03],\n",
       "        [4.50188938e+03],\n",
       "        [1.88315518e+02],\n",
       "        [5.39332354e+03],\n",
       "        [1.58889001e+04],\n",
       "        [5.95727529e+03],\n",
       "        [3.70005948e+04],\n",
       "        [5.58260086e+04],\n",
       "        [2.38624653e+04],\n",
       "        [6.80549475e+03],\n",
       "        [5.09488917e+03],\n",
       "        [1.40649731e+04],\n",
       "        [1.14542589e+03],\n",
       "        [2.31022726e+02],\n",
       "        [1.75730856e+02],\n",
       "        [1.11841611e+03],\n",
       "        [4.58462819e+03],\n",
       "        [3.22523095e+03],\n",
       "        [1.46043801e+04],\n",
       "        [1.06243182e+04],\n",
       "        [3.69108052e+03],\n",
       "        [3.28766953e+03],\n",
       "        [3.16054487e+03],\n",
       "        [6.85405746e+03],\n",
       "        [1.06882234e+04],\n",
       "        [7.52781300e+03],\n",
       "        [2.15011554e+03],\n",
       "        [7.36419359e+03],\n",
       "        [2.32214486e+04],\n",
       "        [1.15207728e+04],\n",
       "        [9.08825843e+02],\n",
       "        [1.34439472e+04],\n",
       "        [2.56581448e+03],\n",
       "        [1.42694735e+03],\n",
       "        [6.49373187e+02],\n",
       "        [7.22323218e+03],\n",
       "        [1.02660796e+04],\n",
       "        [2.46223927e+03],\n",
       "        [2.57848913e+04],\n",
       "        [2.17426654e+04],\n",
       "        [7.43700939e+02],\n",
       "        [1.35571298e+04],\n",
       "        [2.42544068e+04],\n",
       "        [1.38183448e+04],\n",
       "        [7.62462151e+02],\n",
       "        [2.64312807e+04],\n",
       "        [3.40359758e+04],\n",
       "        [1.35714874e+04],\n",
       "        [8.96115735e+02],\n",
       "        [1.42445612e+04],\n",
       "        [2.20412411e+04],\n",
       "        [5.94853720e+03],\n",
       "        [2.98041171e+03],\n",
       "        [1.86681763e+03],\n",
       "        [3.61278803e+04],\n",
       "        [4.30396532e+04],\n",
       "        [1.63004546e+04],\n",
       "        [3.70111639e+03],\n",
       "        [4.56666595e+03],\n",
       "        [7.32238610e+03],\n",
       "        [3.53536770e+04],\n",
       "        [9.38796470e+03],\n",
       "        [9.07163117e+03],\n",
       "        [2.69494961e+04],\n",
       "        [6.19794592e+03],\n",
       "        [2.83657505e+04],\n",
       "        [4.23655761e+04],\n",
       "        [2.33668307e+04],\n",
       "        [2.42027637e+04],\n",
       "        [1.07631324e+04],\n",
       "        [4.86879622e+03],\n",
       "        [4.07836045e+04],\n",
       "        [4.20336618e+04],\n",
       "        [1.58112473e+04],\n",
       "        [5.24249389e+02],\n",
       "        [4.18986007e+03],\n",
       "        [8.39405001e+03],\n",
       "        [1.41828424e+04],\n",
       "        [7.62761644e+03],\n",
       "        [2.66534298e+03],\n",
       "        [1.59075600e+04],\n",
       "        [4.02234966e+04],\n",
       "        [1.54095998e+04],\n",
       "        [2.94898831e+02],\n",
       "        [1.39245030e+04],\n",
       "        [2.01797190e+04],\n",
       "        [1.66994875e+04],\n",
       "        [5.72762921e+04],\n",
       "        [6.52265169e+04],\n",
       "        [2.04077287e+04],\n",
       "        [7.62860002e+03],\n",
       "        [1.19678333e+04],\n",
       "        [3.67273849e+03],\n",
       "        [5.79626829e+00],\n",
       "        [7.75804543e+02],\n",
       "        [3.37350610e+03],\n",
       "        [1.19095220e+04],\n",
       "        [3.04328657e+04],\n",
       "        [3.21047705e+04],\n",
       "        [9.82392326e+03],\n",
       "        [7.23377330e+03],\n",
       "        [1.39834066e+04],\n",
       "        [1.07976758e+04],\n",
       "        [1.38666770e+03],\n",
       "        [5.70321945e+03],\n",
       "        [1.04869123e+04],\n",
       "        [1.98868152e+04],\n",
       "        [2.33213039e+04],\n",
       "        [3.75081385e+04],\n",
       "        [3.19617173e+04],\n",
       "        [1.56997010e+04],\n",
       "        [6.72419345e+03],\n",
       "        [3.21734931e+04],\n",
       "        [3.20244630e+04],\n",
       "        [9.09627399e+03]]),\n",
       " array([       0.  ,   128906.25,   257812.5 ,   386718.75,   515625.  ,\n",
       "          644531.25,   773437.5 ,   902343.75,  1031250.  ,  1160156.25,\n",
       "         1289062.5 ,  1417968.75,  1546875.  ,  1675781.25,  1804687.5 ,\n",
       "         1933593.75,  2062500.  ,  2191406.25,  2320312.5 ,  2449218.75,\n",
       "         2578125.  ,  2707031.25,  2835937.5 ,  2964843.75,  3093750.  ,\n",
       "         3222656.25,  3351562.5 ,  3480468.75,  3609375.  ,  3738281.25,\n",
       "         3867187.5 ,  3996093.75,  4125000.  ,  4253906.25,  4382812.5 ,\n",
       "         4511718.75,  4640625.  ,  4769531.25,  4898437.5 ,  5027343.75,\n",
       "         5156250.  ,  5285156.25,  5414062.5 ,  5542968.75,  5671875.  ,\n",
       "         5800781.25,  5929687.5 ,  6058593.75,  6187500.  ,  6316406.25,\n",
       "         6445312.5 ,  6574218.75,  6703125.  ,  6832031.25,  6960937.5 ,\n",
       "         7089843.75,  7218750.  ,  7347656.25,  7476562.5 ,  7605468.75,\n",
       "         7734375.  ,  7863281.25,  7992187.5 ,  8121093.75,  8250000.  ,\n",
       "         8378906.25,  8507812.5 ,  8636718.75,  8765625.  ,  8894531.25,\n",
       "         9023437.5 ,  9152343.75,  9281250.  ,  9410156.25,  9539062.5 ,\n",
       "         9667968.75,  9796875.  ,  9925781.25, 10054687.5 , 10183593.75,\n",
       "        10312500.  , 10441406.25, 10570312.5 , 10699218.75, 10828125.  ,\n",
       "        10957031.25, 11085937.5 , 11214843.75, 11343750.  , 11472656.25,\n",
       "        11601562.5 , 11730468.75, 11859375.  , 11988281.25, 12117187.5 ,\n",
       "        12246093.75, 12375000.  , 12503906.25, 12632812.5 , 12761718.75,\n",
       "        12890625.  , 13019531.25, 13148437.5 , 13277343.75, 13406250.  ,\n",
       "        13535156.25, 13664062.5 , 13792968.75, 13921875.  , 14050781.25,\n",
       "        14179687.5 , 14308593.75, 14437500.  , 14566406.25, 14695312.5 ,\n",
       "        14824218.75, 14953125.  , 15082031.25, 15210937.5 , 15339843.75,\n",
       "        15468750.  , 15597656.25, 15726562.5 , 15855468.75, 15984375.  ,\n",
       "        16113281.25, 16242187.5 , 16371093.75, 16500000.  ]),\n",
       " array([3.87878788e-06]),\n",
       " <matplotlib.image.AxesImage at 0x1653b230a08>)"
      ]
     },
     "execution_count": 85,
     "metadata": {},
     "output_type": "execute_result"
    },
    {
     "data": {
      "image/png": "[encoded data removed]",
      "text/plain": [
       "<Figure size 432x288 with 1 Axes>"
      ]
     },
     "metadata": {
      "needs_background": "light"
     },
     "output_type": "display_data"
    }
   ],
   "source": [
    "plt.specgram(volt_psd_up,256,33*10**6)"
   ]
  },
  {
   "cell_type": "code",
   "execution_count": null,
   "metadata": {},
   "outputs": [],
   "source": []
  }
 ],
 "metadata": {
  "kernelspec": {
   "display_name": "Python 3",
   "language": "python",
   "name": "python3"
  },
  "language_info": {
   "codemirror_mode": {
    "name": "ipython",
    "version": 3
   },
   "file_extension": ".py",
   "mimetype": "text/x-python",
   "name": "python",
   "nbconvert_exporter": "python",
   "pygments_lexer": "ipython3",
   "version": "3.7.4"
  }
 },
 "nbformat": 4,
 "nbformat_minor": 4
}
